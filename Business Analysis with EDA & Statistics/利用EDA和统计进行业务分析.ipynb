{
 "cells": [
  {
   "cell_type": "markdown",
   "id": "f3eeabff",
   "metadata": {},
   "source": [
    "# 第一节: 探索性数据分析"
   ]
  },
  {
   "cell_type": "markdown",
   "id": "69a9d985",
   "metadata": {},
   "source": [
    "> 探索性数据分析(Exploratory Data Analysis，简称EDA)，指对数据分析的过程中尽量不加入先验假设，而是通过作图表和统计等方式来探索数据结构和规律。\n",
    "详情看这里: "
   ]
  },
  {
   "cell_type": "markdown",
   "id": "9de0009c",
   "metadata": {},
   "source": [
    "1. 是否有空值或离群值？ 你会如何处理他们?\n",
    "2. 是否有任何可以保证转型的变量？\n",
    "3.你可以使用给定的数据设计任何有用的变量吗？\n",
    "4.你是否注意到数据中有任何模式或异常，你能画出来吗？"
   ]
  },
  {
   "cell_type": "markdown",
   "id": "2335db9f",
   "metadata": {},
   "source": [
    "# 第二节： 统计分析"
   ]
  },
  {
   "cell_type": "markdown",
   "id": "e8075d08",
   "metadata": {},
   "source": [
    "请以回归的形式运行统计测试以回答这些问题，并向您的CMO提出以数据为依据的行动建议\n",
    "确保使用非统计术语解释您的结果，以便您的CMO能够理解您的发现。"
   ]
  },
  {
   "cell_type": "markdown",
   "id": "c5edfab8",
   "metadata": {},
   "source": [
    "1.哪些因素与商店购买数量显着相关？\n"
   ]
  },
  {
   "cell_type": "markdown",
   "id": "9e28c68c",
   "metadata": {},
   "source": [
    "2.就购买总额而言，美国的是否明显优于世界其他地区？\n"
   ]
  },
  {
   "cell_type": "markdown",
   "id": "e2c4e1a0",
   "metadata": {},
   "source": [
    "3.您的主管坚持认为，购买黄金的人更为保守。 因此，过去两年中在黄金上花费高于平均水平的人会在商店中购买更多商品。 使用适当的统计检验证明或反驳此陈述"
   ]
  },
  {
   "cell_type": "markdown",
   "id": "e2e7925b",
   "metadata": {},
   "source": [
    "4.鱼含有对大脑有益的Omega 3脂肪酸。 因此，“已婚博士候选人”与在鱼上消费的金额是否有显着关系？ 还有哪些其他因素与花在鱼上的数量显着相关？ （提示：使用您对交互变量的了解"
   ]
  },
  {
   "cell_type": "markdown",
   "id": "d2c16417",
   "metadata": {},
   "source": [
    "5.竞选活动的地域性与成功之间是否存在重大关系？"
   ]
  },
  {
   "cell_type": "code",
   "execution_count": 6,
   "id": "cf3aa293",
   "metadata": {},
   "outputs": [],
   "source": [
    "#linear algebra\n",
    "import numpy as np"
   ]
  },
  {
   "cell_type": "code",
   "execution_count": 7,
   "id": "ab28b343",
   "metadata": {},
   "outputs": [],
   "source": [
    "# data processing\n",
    "import pandas as pd"
   ]
  },
  {
   "cell_type": "code",
   "execution_count": null,
   "id": "66617687",
   "metadata": {},
   "outputs": [],
   "source": [
    "# data visualization(for EDA 探索性数据分析) "
   ]
  }
 ],
 "metadata": {
  "kernelspec": {
   "display_name": "Python 3",
   "language": "python",
   "name": "python3"
  },
  "language_info": {
   "codemirror_mode": {
    "name": "ipython",
    "version": 3
   },
   "file_extension": ".py",
   "mimetype": "text/x-python",
   "name": "python",
   "nbconvert_exporter": "python",
   "pygments_lexer": "ipython3",
   "version": "3.8.0"
  }
 },
 "nbformat": 4,
 "nbformat_minor": 5
}
